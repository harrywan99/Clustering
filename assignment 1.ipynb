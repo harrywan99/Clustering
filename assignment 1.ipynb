{
 "cells": [
  {
   "cell_type": "code",
   "execution_count": 1,
   "id": "2f2bc7f1",
   "metadata": {},
   "outputs": [],
   "source": [
    "import numpy as np\n",
    "import pandas as pd"
   ]
  },
  {
   "cell_type": "code",
   "execution_count": 9,
   "id": "9d09b689",
   "metadata": {},
   "outputs": [],
   "source": [
    "data = [[65, 60], [53, 60], [65, 62], [53, 64], [68, 63], [51, 57], [60, 51], [60, 80]]"
   ]
  },
  {
   "cell_type": "code",
   "execution_count": 26,
   "id": "5ccf0ec7",
   "metadata": {},
   "outputs": [],
   "source": [
    "#k-mean from scratch\n",
    "def dist(point_1, point_2):\n",
    "    return np.sqrt(np.square((point_2[1]-point_1[1]))+np.square((point_2[0]-point_1[0])))\n",
    "\n",
    "def clusterMean(cluster, old_mean):\n",
    "    x_sum, y_sum = 0, 0\n",
    "    if len(cluster) == 0:\n",
    "        return old_mean\n",
    "    else:    \n",
    "        for point in cluster:\n",
    "            x_sum += point[0]\n",
    "            y_sum += point[1]\n",
    "        return [x_sum/len(cluster), y_sum/len(cluster)]"
   ]
  },
  {
   "cell_type": "code",
   "execution_count": 34,
   "id": "39b2b411",
   "metadata": {},
   "outputs": [],
   "source": [
    "#Question 3ai,3aii. k=2 with specified initial means\n",
    "def kMean(mean_1, mean_2):\n",
    "    cluster_1 = []\n",
    "    cluster_2 = []\n",
    "    for point in data:\n",
    "        if dist(point, mean_1) < dist(point, mean_2):\n",
    "            cluster_1.append(point)\n",
    "        else:\n",
    "            cluster_2.append(point)\n",
    "    return cluster_1, cluster_2\n",
    "\n",
    "def initialize(initMean_1, initMean_2):\n",
    "    currentCluster_1, currentCluster_2 = kMean(initMean_1, initMean_2)\n",
    "    currentMean_1, currentMean_2 = clusterMean(currentCluster_1, initMean_1), clusterMean(currentCluster_2, initMean_2)\n",
    "    nextCluster_1, nextCluster_2 = kMean(currentMean_1, currentMean_2)\n",
    "    while currentCluster_1 != nextCluster_1:\n",
    "        currentMean_1, currentMean_2 = clusterMean(nextCluster_1, currentMean_1), clusterMean(nextCluster_2, currentMean_2)\n",
    "        currentCluster_1, currentCluster_2 = nextCluster_1, nextCluster_2\n",
    "        nextCluster_1, nextCluster_2 = kMean(currentMean_1, currentMean_2)\n",
    "    return currentCluster_1, currentCluster_2"
   ]
  },
  {
   "cell_type": "code",
   "execution_count": 36,
   "id": "4a11f6ba",
   "metadata": {},
   "outputs": [
    {
     "name": "stdout",
     "output_type": "stream",
     "text": [
      "[[65, 60], [53, 60], [65, 62], [53, 64], [68, 63], [51, 57], [60, 51]]\n",
      "[[60, 80]]\n",
      "[59.285714285714285, 59.57142857142857] [60.0, 80.0]\n"
     ]
    }
   ],
   "source": [
    "finalCluster1, finalCluster2 = initialize([60, 51], [60, 80])\n",
    "print(finalCluster1)\n",
    "print(finalCluster2)\n",
    "print(clusterMean(finalCluster1, _), clusterMean(finalCluster2, _))"
   ]
  },
  {
   "cell_type": "code",
   "execution_count": 37,
   "id": "e13ae769",
   "metadata": {},
   "outputs": [
    {
     "name": "stdout",
     "output_type": "stream",
     "text": [
      "[[53, 60], [53, 64], [51, 57], [60, 51]]\n",
      "[[65, 60], [65, 62], [68, 63], [60, 80]]\n",
      "[54.25, 58.0] [64.5, 66.25]\n"
     ]
    }
   ],
   "source": [
    "finalCluster1, finalCluster2 = initialize([53, 60], [65, 60])\n",
    "print(finalCluster1)\n",
    "print(finalCluster2)\n",
    "print(clusterMean(finalCluster1, _), clusterMean(finalCluster2, _))"
   ]
  },
  {
   "cell_type": "code",
   "execution_count": 48,
   "id": "f5c03e66",
   "metadata": {},
   "outputs": [],
   "source": [
    "#Question 3aiii. k=3 with specified initial means\n",
    "def k3Mean(mean_1, mean_2, mean_3):\n",
    "    cluster_1 = []\n",
    "    cluster_2 = []\n",
    "    cluster_3 = []\n",
    "    for point in data:\n",
    "        smallestDist = min(dist(point, mean_1), dist(point, mean_2), dist(point, mean_3))\n",
    "        if smallestDist == dist(point, mean_1):\n",
    "            cluster_1.append(point)\n",
    "        elif smallestDist == dist(point, mean_2):\n",
    "            cluster_2.append(point)\n",
    "        else:\n",
    "            cluster_3. append(point)\n",
    "    return cluster_1, cluster_2, cluster_3\n",
    "\n",
    "def initialize3(initMean_1, initMean_2, initMean_3):\n",
    "    currentCluster_1, currentCluster_2, currentCluster_3 = k3Mean(initMean_1, initMean_2, initMean_3)\n",
    "    currentMean_1, currentMean_2, currentMean_3 = clusterMean(currentCluster_1, initMean_1), clusterMean(currentCluster_2, initMean_2), clusterMean(currentCluster_3, initMean_3)\n",
    "    nextCluster_1, nextCluster_2, nextCluster_3 = k3Mean(currentMean_1, currentMean_2, currentMean_3)\n",
    "    print(currentMean_3)\n",
    "    while (currentCluster_1 != nextCluster_1) or (currentCluster_2 != nextCluster_2):\n",
    "        currentMean_1, currentMean_2, currentMean_3 = clusterMean(nextCluster_1, currentMean_1), clusterMean(nextCluster_2, currentMean_2), clusterMean(nextCluster_3, currentMean_3)\n",
    "        currentCluster_1, currentCluster_2, currentCluster_3 = nextCluster_1, nextCluster_2, nextCluster_3\n",
    "        print(currentMean_3)\n",
    "        nextCluster_1, nextCluster_2, nextCluster_3 = k3Mean(currentMean_1, currentMean_2, currentMean_3)\n",
    "    return currentCluster_1, currentCluster_2, currentCluster_3"
   ]
  },
  {
   "cell_type": "code",
   "execution_count": 49,
   "id": "e181071a",
   "metadata": {},
   "outputs": [
    {
     "name": "stdout",
     "output_type": "stream",
     "text": [
      "[52.333333333333336, 60.333333333333336]\n",
      "[[65, 60], [65, 62], [68, 63], [60, 51]]\n",
      "[[60, 80]]\n",
      "[[53, 60], [53, 64], [51, 57]]\n",
      "[64.5, 59.0] [60.0, 80.0] [52.333333333333336, 60.333333333333336]\n"
     ]
    }
   ],
   "source": [
    "finalCluster1, finalCluster2, finalCluster3 = initialize3([60, 51], [60, 80], [53, 60])\n",
    "print(finalCluster1)\n",
    "print(finalCluster2)\n",
    "print(finalCluster3)\n",
    "print(clusterMean(finalCluster1, _), clusterMean(finalCluster2, _), clusterMean(finalCluster3, _))"
   ]
  },
  {
   "cell_type": "code",
   "execution_count": 52,
   "id": "9a175be7",
   "metadata": {},
   "outputs": [],
   "source": [
    "#Question 3aiv. k=4 with specified initial means\n",
    "def k4Mean(mean_1, mean_2, mean_3, mean_4):\n",
    "    cluster_1 = []\n",
    "    cluster_2 = []\n",
    "    cluster_3 = []\n",
    "    cluster_4 = []\n",
    "    for point in data:\n",
    "        smallestDist = min(dist(point, mean_1), dist(point, mean_2), dist(point, mean_3), dist(point, mean_4))\n",
    "        if smallestDist == dist(point, mean_1):\n",
    "            cluster_1.append(point)\n",
    "        elif smallestDist == dist(point, mean_2):\n",
    "            cluster_2.append(point)\n",
    "        elif smallestDist == dist(point, mean_3):\n",
    "            cluster_3.append(point)\n",
    "        else:\n",
    "            cluster_4.append(point)\n",
    "    return cluster_1, cluster_2, cluster_3, cluster_4\n",
    "\n",
    "def initialize4(initMean_1, initMean_2, initMean_3, initMean_4):\n",
    "    currentCluster_1, currentCluster_2, currentCluster_3, currentCluster_4 = k4Mean(initMean_1, initMean_2, initMean_3, initMean_4)\n",
    "    currentMean_1, currentMean_2, currentMean_3, currentMean_4 = clusterMean(currentCluster_1, initMean_1), clusterMean(currentCluster_2, initMean_2), clusterMean(currentCluster_3, initMean_3), clusterMean(currentCluster_4, initMean_4)\n",
    "    nextCluster_1, nextCluster_2, nextCluster_3, nextCluster_4 = k4Mean(currentMean_1, currentMean_2, currentMean_3, currentMean_4)\n",
    "    while (currentCluster_1 != nextCluster_1) or (currentCluster_2 != nextCluster_2) or (currentCluster_3 != nextCluster_3):\n",
    "        currentMean_1, currentMean_2, currentMean_3, currentMean_4 = clusterMean(nextCluster_1, currentMean_1), clusterMean(nextCluster_2, currentMean_2), clusterMean(nextCluster_3, currentMean_3), clusterMean(nextCluster_4, currentMean_4)\n",
    "        currentCluster_1, currentCluster_2, currentCluster_3, currentCluster_4 = nextCluster_1, nextCluster_2, nextCluster_3, nextCluster_4\n",
    "        nextCluster_1, nextCluster_2, nextCluster_3, nextCluster_4 = k4Mean(currentMean_1, currentMean_2, currentMean_3, currentMean_4)\n",
    "    return currentCluster_1, currentCluster_2, currentCluster_3, currentCluster_4"
   ]
  },
  {
   "cell_type": "code",
   "execution_count": 53,
   "id": "7d96648d",
   "metadata": {},
   "outputs": [
    {
     "name": "stdout",
     "output_type": "stream",
     "text": [
      "[[60, 51]]\n",
      "[[60, 80]]\n",
      "[[53, 60], [53, 64], [51, 57]]\n",
      "[[65, 60], [65, 62], [68, 63]]\n",
      "[60.0, 51.0] [60.0, 80.0] [52.333333333333336, 60.333333333333336] [66.0, 61.666666666666664]\n"
     ]
    }
   ],
   "source": [
    "finalCluster1, finalCluster2, finalCluster3, finalCluster4 = initialize4([60, 51], [60, 80], [53, 60], [65, 60])\n",
    "print(finalCluster1)\n",
    "print(finalCluster2)\n",
    "print(finalCluster3)\n",
    "print(finalCluster4)\n",
    "print(clusterMean(finalCluster1, _), clusterMean(finalCluster2, _), clusterMean(finalCluster3, _), clusterMean(finalCluster4, _))"
   ]
  },
  {
   "cell_type": "code",
   "execution_count": null,
   "id": "37cb275c",
   "metadata": {},
   "outputs": [],
   "source": []
  }
 ],
 "metadata": {
  "kernelspec": {
   "display_name": "Python 3",
   "language": "python",
   "name": "python3"
  },
  "language_info": {
   "codemirror_mode": {
    "name": "ipython",
    "version": 3
   },
   "file_extension": ".py",
   "mimetype": "text/x-python",
   "name": "python",
   "nbconvert_exporter": "python",
   "pygments_lexer": "ipython3",
   "version": "3.8.8"
  }
 },
 "nbformat": 4,
 "nbformat_minor": 5
}
